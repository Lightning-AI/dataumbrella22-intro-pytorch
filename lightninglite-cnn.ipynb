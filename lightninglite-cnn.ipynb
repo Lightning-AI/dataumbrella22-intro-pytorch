{
  "cells": [
    {
      "cell_type": "code",
      "execution_count": null,
      "metadata": {
        "id": "MLvVE7PagQqK"
      },
      "outputs": [],
      "source": [
        "%load_ext watermark\n",
        "%watermark -a 'Sebastian Raschka' -v -p torch"
      ]
    },
    {
      "cell_type": "code",
      "source": [
        "!pip install pytorch-lightning"
      ],
      "metadata": {
        "id": "JybC0WnyhmPg"
      },
      "execution_count": null,
      "outputs": []
    },
    {
      "cell_type": "markdown",
      "metadata": {
        "id": "GiFQw3K6gQqM"
      },
      "source": [
        "- Runs on CPU or GPU (if available)"
      ]
    },
    {
      "cell_type": "markdown",
      "metadata": {
        "id": "jgQsrqRjgQqN"
      },
      "source": [
        "# Convolutional Neural Network on MNIST"
      ]
    },
    {
      "cell_type": "markdown",
      "metadata": {
        "id": "Nga0IymlgQqN"
      },
      "source": [
        "## Imports"
      ]
    },
    {
      "cell_type": "code",
      "execution_count": null,
      "metadata": {
        "id": "Eoeq310WgQqN"
      },
      "outputs": [],
      "source": [
        "import os\n",
        "import time\n",
        "\n",
        "import numpy as np\n",
        "import torch\n",
        "import torch.nn.functional as F\n",
        "\n",
        "if torch.cuda.is_available():\n",
        "    torch.backends.cudnn.deterministic = True"
      ]
    },
    {
      "cell_type": "markdown",
      "metadata": {
        "id": "b5Xzl5rxgQqN"
      },
      "source": [
        "## Settings"
      ]
    },
    {
      "cell_type": "code",
      "execution_count": null,
      "metadata": {
        "id": "hhYGv6PcgQqO"
      },
      "outputs": [],
      "source": [
        "##########################\n",
        "### SETTINGS\n",
        "##########################\n",
        "\n",
        "# Hyperparameters\n",
        "random_seed = 1\n",
        "learning_rate = 0.001\n",
        "num_epochs = 1\n",
        "batch_size = 128\n",
        "\n",
        "# Architecture\n",
        "num_classes = 10"
      ]
    },
    {
      "cell_type": "markdown",
      "metadata": {
        "id": "D7nkEiZAgQqO"
      },
      "source": [
        "## Dataset"
      ]
    },
    {
      "cell_type": "code",
      "execution_count": null,
      "metadata": {
        "id": "SwSdaDoKgQqO"
      },
      "outputs": [],
      "source": [
        "!pip install gitpython"
      ]
    },
    {
      "cell_type": "code",
      "execution_count": null,
      "metadata": {
        "id": "C4AX4pA9gQqP"
      },
      "outputs": [],
      "source": [
        "import os\n",
        "\n",
        "from git import Repo\n",
        "\n",
        "if not os.path.exists(\"mnist-pngs\"):\n",
        "    Repo.clone_from(\"https://github.com/rasbt/mnist-pngs\", \"mnist-pngs\")"
      ]
    },
    {
      "cell_type": "code",
      "execution_count": null,
      "metadata": {
        "id": "xafFL5_HgQqP"
      },
      "outputs": [],
      "source": [
        "from torchvision import transforms\n",
        "\n",
        "data_transforms = {\n",
        "    \"train\": transforms.Compose(\n",
        "        [\n",
        "            transforms.Resize(32),\n",
        "            transforms.RandomCrop((28, 28)),\n",
        "            transforms.ToTensor(),\n",
        "            # normalize images to [-1, 1] range\n",
        "            transforms.Normalize((0.5, 0.5, 0.5), (0.5, 0.5, 0.5)),\n",
        "        ]\n",
        "    ),\n",
        "    \"test\": transforms.Compose(\n",
        "        [\n",
        "            transforms.Resize(32),\n",
        "            transforms.CenterCrop((28, 28)),\n",
        "            transforms.ToTensor(),\n",
        "            # normalize images to [-1, 1] range\n",
        "            transforms.Normalize((0.5, 0.5, 0.5), (0.5, 0.5, 0.5)),\n",
        "        ]\n",
        "    ),\n",
        "}"
      ]
    },
    {
      "cell_type": "code",
      "execution_count": null,
      "metadata": {
        "id": "PiKooKxUgQqP"
      },
      "outputs": [],
      "source": [
        "from torch.utils.data.dataset import random_split\n",
        "from torchvision.datasets import ImageFolder\n",
        "\n",
        "train_dset = ImageFolder(root=\"mnist-pngs/train\", transform=data_transforms[\"train\"])\n",
        "\n",
        "train_dset, valid_dset = random_split(train_dset, lengths=[55000, 5000])\n",
        "\n",
        "test_dset = ImageFolder(root=\"mnist-pngs/test\", transform=data_transforms[\"test\"])"
      ]
    },
    {
      "cell_type": "code",
      "execution_count": null,
      "metadata": {
        "id": "uAWJoidQgQqQ"
      },
      "outputs": [],
      "source": [
        "from torch.utils.data import DataLoader\n",
        "\n",
        "train_loader = DataLoader(\n",
        "    dataset=train_dset,\n",
        "    batch_size=batch_size,\n",
        "    drop_last=True,\n",
        "    num_workers=4,\n",
        "    shuffle=True,\n",
        ")\n",
        "\n",
        "valid_loader = DataLoader(\n",
        "    dataset=valid_dset,\n",
        "    batch_size=batch_size,\n",
        "    drop_last=False,\n",
        "    num_workers=4,\n",
        "    shuffle=False,\n",
        ")\n",
        "\n",
        "test_loader = DataLoader(\n",
        "    dataset=test_dset,\n",
        "    batch_size=batch_size,\n",
        "    drop_last=False,\n",
        "    num_workers=4,\n",
        "    shuffle=False,\n",
        ")"
      ]
    },
    {
      "cell_type": "code",
      "execution_count": null,
      "metadata": {
        "id": "mrK9b3j9gQqQ"
      },
      "outputs": [],
      "source": [
        "%matplotlib inline\n",
        "import matplotlib.pyplot as plt\n",
        "import torchvision.utils as vutils\n",
        "\n",
        "real_batch = next(iter(train_loader))\n",
        "plt.figure(figsize=(8, 8))\n",
        "plt.axis(\"off\")\n",
        "plt.title(\"Training images\")\n",
        "plt.imshow(\n",
        "    np.transpose(\n",
        "        vutils.make_grid(real_batch[0][:64], padding=2, normalize=True), (1, 2, 0)\n",
        "    )\n",
        ")\n",
        "plt.show()"
      ]
    },
    {
      "cell_type": "markdown",
      "metadata": {
        "id": "LHezXsIsgQqQ"
      },
      "source": [
        "## Model"
      ]
    },
    {
      "cell_type": "code",
      "execution_count": null,
      "metadata": {
        "id": "nsL-TmA9gQqQ"
      },
      "outputs": [],
      "source": [
        "import torch\n",
        "\n",
        "\n",
        "class PyTorchCNN(torch.nn.Module):\n",
        "    def __init__(self, num_classes):\n",
        "        super().__init__()\n",
        "\n",
        "        self.num_classes = num_classes\n",
        "        self.features = torch.nn.Sequential(\n",
        "            torch.nn.Conv2d(\n",
        "                in_channels=3,\n",
        "                out_channels=8,\n",
        "                kernel_size=(3, 3),\n",
        "                stride=(1, 1),\n",
        "                padding=1,\n",
        "            ),\n",
        "            torch.nn.ReLU(),\n",
        "            torch.nn.MaxPool2d(kernel_size=(2, 2), stride=(2, 2), padding=0),\n",
        "            torch.nn.ReLU(),\n",
        "            torch.nn.Conv2d(\n",
        "                in_channels=8,\n",
        "                out_channels=16,\n",
        "                kernel_size=(3, 3),\n",
        "                stride=(1, 1),\n",
        "                padding=1,\n",
        "            ),\n",
        "            torch.nn.ReLU(),\n",
        "            torch.nn.MaxPool2d(kernel_size=(2, 2), stride=(2, 2), padding=0),\n",
        "        )\n",
        "\n",
        "        self.classifier = torch.nn.Sequential(\n",
        "            torch.nn.Flatten(),\n",
        "            torch.nn.Linear(784, 128),\n",
        "            torch.nn.ReLU(),\n",
        "            torch.nn.Linear(128, num_classes),\n",
        "        )\n",
        "\n",
        "    def forward(self, x):\n",
        "        x = self.features(x)\n",
        "        x = self.classifier(x)\n",
        "        return x\n"
      ]
    },
    {
      "cell_type": "markdown",
      "metadata": {
        "id": "U19CNMFDgQqR"
      },
      "source": [
        "## Training with LightningLite"
      ]
    },
    {
      "cell_type": "code",
      "execution_count": null,
      "metadata": {
        "id": "_PHWEjWfgQqR"
      },
      "outputs": [],
      "source": [
        "def compute_accuracy(model, data_loader):\n",
        "    with torch.no_grad():\n",
        "        correct_pred, num_examples = 0, 0\n",
        "        for features, targets in data_loader:\n",
        "            logits = model(features)\n",
        "            _, predicted_labels = torch.max(logits, 1)\n",
        "            num_examples += targets.size(0)\n",
        "            correct_pred += (predicted_labels == targets).sum()\n",
        "        return correct_pred.float() / num_examples"
      ]
    },
    {
      "cell_type": "code",
      "execution_count": null,
      "metadata": {
        "id": "lHEIIjl9gQqR"
      },
      "outputs": [],
      "source": [
        "from pytorch_lightning.lite import LightningLite\n",
        "from torch.utils.data import DataLoader\n",
        "\n",
        "from torch.utils.data.dataset import random_split\n",
        "from torchvision.datasets import ImageFolder\n",
        "\n",
        "\n",
        "torch.manual_seed(random_seed)\n",
        "\n",
        "\n",
        "class Lite(LightningLite):\n",
        "\n",
        "  def run(self):\n",
        "    model = self.train()\n",
        "    self.test(model)\n",
        "\n",
        "  def train(self):\n",
        "\n",
        "    train_dset = ImageFolder(root=\"mnist-pngs/train\", transform=data_transforms[\"train\"])\n",
        "    train_dset, valid_dset = random_split(train_dset, lengths=[55000, 5000])\n",
        "    train_loader = DataLoader(\n",
        "        dataset=train_dset,\n",
        "        batch_size=batch_size,\n",
        "        drop_last=True,\n",
        "        num_workers=4,\n",
        "        shuffle=True,\n",
        "    )\n",
        "    valid_loader = DataLoader(\n",
        "        dataset=valid_dset,\n",
        "        batch_size=batch_size,\n",
        "        drop_last=False,\n",
        "        num_workers=4,\n",
        "        shuffle=False,\n",
        "    )\n",
        "\n",
        "    model = PyTorchCNN(num_classes=num_classes)\n",
        "    optimizer = torch.optim.Adam(model.parameters(), lr=learning_rate)\n",
        "\n",
        "    model, optimizer = self.setup(model, optimizer)\n",
        "    train_loader = self.setup_dataloaders(train_loader)\n",
        "    valid_loader = self.setup_dataloaders(valid_loader)\n",
        "\n",
        "    start_time = time.time()\n",
        "    for epoch in range(num_epochs):\n",
        "        model = model.train()\n",
        "        for batch_idx, (features, targets) in enumerate(train_loader):\n",
        "\n",
        "            # features, targets = features.to(device), targets.to(device)\n",
        "\n",
        "            ### Forward pass\n",
        "            logits = model(features)\n",
        "            loss = F.cross_entropy(logits, targets)\n",
        "\n",
        "            ### Backward pass (backpropagation)\n",
        "            optimizer.zero_grad()\n",
        "            self.backward(loss)\n",
        "\n",
        "            ### Update model parameters\n",
        "            optimizer.step()\n",
        "\n",
        "            ### Batch-level logging\n",
        "            if not (batch_idx + 1) % 100:\n",
        "                print(\n",
        "                    f\"Epoch: {epoch + 1:03d}/{num_epochs:03d} | \"\n",
        "                    f\"Batch: {batch_idx + 1:03d}/{len(train_loader):03d} | \"\n",
        "                    f\"Loss: {loss:.4f}\"\n",
        "                )\n",
        "\n",
        "        ### Epoch-level logging\n",
        "        model = model.eval()\n",
        "        train_acc = compute_accuracy(model, train_loader)\n",
        "        valid_acc = compute_accuracy(model, valid_loader)\n",
        "        print(\n",
        "            f\"Training accuracy: {train_acc * 100:.2f}% | \"\n",
        "            f\"Validation accuracy: {valid_acc * 100:.2f}%\"\n",
        "        )\n",
        "        print(f\"Time elapsed: {(time.time() - start_time) / 60:.2f} min\")\n",
        "\n",
        "    print(f\"Total training time: {(time.time() - start_time) / 60:.2f} min\")\n",
        "    return model\n",
        "\n",
        "\n",
        "  def test(self, model):\n",
        "    test_dset = ImageFolder(root=\"mnist-pngs/test\", transform=data_transforms[\"test\"])\n",
        "    test_loader = DataLoader(\n",
        "      dataset=test_dset,\n",
        "      batch_size=batch_size,\n",
        "      drop_last=False,\n",
        "      num_workers=4,\n",
        "      shuffle=False,\n",
        "    )\n",
        "    test_loader = self.setup_dataloaders(test_loader)\n",
        "    model = model.eval()\n",
        "    test_acc = compute_accuracy(model, test_loader)\n",
        "    print(f\"Test accuracy: {test_acc*100:.2f}%\")\n"
      ]
    },
    {
      "cell_type": "code",
      "source": [
        "Lite(accelerator=\"auto\", devices=\"auto\").run()"
      ],
      "metadata": {
        "id": "QO4Hj9ssh-EA"
      },
      "execution_count": null,
      "outputs": []
    },
    {
      "cell_type": "code",
      "execution_count": null,
      "metadata": {
        "id": "vPh9GV2KgQqR"
      },
      "outputs": [],
      "source": [
        "%watermark -iv"
      ]
    }
  ],
  "metadata": {
    "kernelspec": {
      "display_name": "Python 3 (ipykernel)",
      "language": "python",
      "name": "python3"
    },
    "language_info": {
      "codemirror_mode": {
        "name": "ipython",
        "version": 3
      },
      "file_extension": ".py",
      "mimetype": "text/x-python",
      "name": "python",
      "nbconvert_exporter": "python",
      "pygments_lexer": "ipython3",
      "version": "3.9.7"
    },
    "toc": {
      "nav_menu": {},
      "number_sections": true,
      "sideBar": true,
      "skip_h1_title": false,
      "title_cell": "Table of Contents",
      "title_sidebar": "Contents",
      "toc_cell": false,
      "toc_position": {},
      "toc_section_display": true,
      "toc_window_display": false
    },
    "colab": {
      "name": "lightning-lite-cnn.ipynb",
      "provenance": [],
      "collapsed_sections": []
    },
    "accelerator": "GPU"
  },
  "nbformat": 4,
  "nbformat_minor": 0
}